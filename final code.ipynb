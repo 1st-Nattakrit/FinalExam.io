{
 "cells": [
  {
   "cell_type": "code",
   "execution_count": 17,
   "metadata": {},
   "outputs": [],
   "source": [
    "import cv2\n",
    "import numpy as np"
   ]
  },
  {
   "cell_type": "code",
   "execution_count": 19,
   "metadata": {},
   "outputs": [],
   "source": [
    "def realtime_object_detection(img,video_device,min_match_number): \n",
    "    cap = cv2.VideoCapture(video_device)\n",
    "    detector = cv2.SIFT_create()\n",
    "    matching = cv2.BFMatcher()\n",
    "    img_gray = cv2.cvtColor(img,cv2.COLOR_BGR2GRAY)\n",
    "    img_kpts,img_desc = detector.detectAndCompute(img_gray,None)\n",
    "\n",
    "    while cap.isOpened():\n",
    "        ret,frame = cap.read()\n",
    "        if ret :\n",
    "            frame_gray = cv2.cvtColor(frame,cv2.COLOR_BGR2GRAY)\n",
    "            query_kpts,query_desc = detector.detectAndCompute(frame_gray,None)\n",
    "            match = matching.knnMatch(img_desc,query_desc,k = 2)\n",
    "            goodmatch = list()\n",
    "            for m,n in match :\n",
    "                if m.distance < 0.7*n.distance :\n",
    "                    goodmatch.append(m)\n",
    "            if len(goodmatch) > min_match_number :\n",
    "                src_pts = np.float32([ img_kpts[m.queryIdx].pt for m in goodmatch]).reshape(-1,1,2)\n",
    "                dst_pts = np.float32([ query_kpts[m.trainIdx].pt for m in goodmatch]).reshape(-1,1,2)\n",
    "                src_pts,dst_pts = np.float32((src_pts,dst_pts))\n",
    "                H,status=cv2.findHomography(src_pts,dst_pts,cv2.RANSAC,3.0)\n",
    "                h,w=img.shape[:2]\n",
    "                imgBorder=np.float32([[[0,0],[0,h-1],[w-1,h-1],[w-1,0]]])\n",
    "                queryBorder=cv2.perspectiveTransform(imgBorder,H)\n",
    "                cv2.polylines(frame,[np.int32(queryBorder)],True,(0,255,0),5)\n",
    "                cv2.imshow('result',frame)\n",
    "\n",
    "            delay = cv2.waitKey(int(1000/30)) & 0xFF\n",
    "            if delay == 24 or delay == ord('q') :\n",
    "                break\n",
    "            else :\n",
    "                frame_gray = frame_gray.copy()\n",
    "        else :\n",
    "            break\n",
    "    cap.release()\n",
    "    cv2.destroyAllWindows()\n",
    "\n",
    "tem_img = cv2.imread('Template-1.png',1)\n",
    "realtime_object_detection(tem_img,'videos/stereo/left_output',20)\n",
    "\n",
    "            "
   ]
  }
 ],
 "metadata": {
  "interpreter": {
   "hash": "51013a6c6f41430316553c2ef610d34721af36f4f4d09cc201dd0c00dcf962a7"
  },
  "kernelspec": {
   "display_name": "Python 3.9.6 64-bit",
   "language": "python",
   "name": "python3"
  },
  "language_info": {
   "codemirror_mode": {
    "name": "ipython",
    "version": 3
   },
   "file_extension": ".py",
   "mimetype": "text/x-python",
   "name": "python",
   "nbconvert_exporter": "python",
   "pygments_lexer": "ipython3",
   "version": "3.9.6"
  },
  "orig_nbformat": 4
 },
 "nbformat": 4,
 "nbformat_minor": 2
}
